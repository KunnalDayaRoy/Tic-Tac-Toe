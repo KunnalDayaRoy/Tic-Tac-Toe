{
 "cells": [
  {
   "cell_type": "code",
   "execution_count": 74,
   "metadata": {
    "collapsed": true
   },
   "outputs": [],
   "source": [
    "#Created By @KunnalDayaRoy\n",
    "\n",
    "\n",
    "from tkinter import *\n",
    "from tkinter import messagebox\n",
    "import random as r\n",
    "\n",
    "def button(frame):\n",
    "\n",
    "    b=Button(frame,padx=2,bg=\"#6A5ACD\",width=3,font=('Segoe Script',42,'bold'),relief=\"solid\",bd=1)\n",
    "    return b\n",
    "def change_a():\n",
    "    global a\n",
    "    for i in ['O','X']:\n",
    "        if not(i==a):\n",
    "            a=i\n",
    "            break\n",
    "\n",
    "\n",
    "def reset():\n",
    "\n",
    "    global a\n",
    "    for i in range(3):\n",
    "        for j in range(3):\n",
    "            b[i][j][\"text\"]=\" \"\n",
    "            b[i][j][\"state\"]=NORMAL\n",
    "    a=r.choice(['O','X'])\n",
    "\n",
    "def check():\n",
    "    for i in range(3):\n",
    "        if(b[i][0][\"text\"]==b[i][1][\"text\"]==b[i][2][\"text\"]==a or b[0][i][\"text\"]==b[1][i][\"text\"]==b[2][i][\"text\"]==a):\n",
    "            messagebox.showinfo(\"Winner !\",\"Player \"+a)\n",
    "            reset()\n",
    "    if(b[0][0][\"text\"]==b[1][1][\"text\"]==b[2][2][\"text\"]==a or b[0][2][\"text\"]==b[1][1][\"text\"]==b[2][0][\"text\"]==a):\n",
    "        messagebox.showinfo(\"Winner\",\"Player \"+a)\n",
    "        reset()\n",
    "    elif(b[0][0][\"state\"]==b[0][1][\"state\"]==b[0][2][\"state\"]==b[1][0][\"state\"]==b[1][1][\"state\"]==b[1][2][\"state\"]==b[2][0][\"state\"]==b[2][1][\"state\"]==b[2][2][\"state\"]==DISABLED):\n",
    "        messagebox.showinfo(\"Tied!!\",\"Try Again\")\n",
    "        reset()\n",
    "\n",
    "\n",
    "def click(row,col):\n",
    "    b[row][col].config(text=a,state=DISABLED,disabledforeground=colour[a])\n",
    "    check()\n",
    "    change_a()\n",
    "    label.config(text=\"Player \"+a+\"'s chance\")\n",
    "\n",
    "root=Tk()\n",
    "root.geometry('375x525')\n",
    "root.title(\"Tic-Tac-Toe\")\n",
    "a=r.choice(['O','X'])\n",
    "colour={'O':\"lavender\",'X':\"white\"}                                                              #X AND 0's color\n",
    "b=[[],[],[]]\n",
    "for i in range(3):\n",
    "    for j in range(3):\n",
    "        b[i].append(button(root))\n",
    "        b[i][j].config(cursor='hand2',command= lambda row=i,col=j:click(row,col))\n",
    "        b[i][j].grid(row=i,column=j)\n",
    "label=Label(text=\"Player \" +a+\"'s chance\",font=('Comic Sans MS',17))\n",
    "label.grid(row=3,column=0,columnspan=3)\n",
    "root.mainloop()"
   ]
  },
  {
   "cell_type": "code",
   "execution_count": null,
   "outputs": [],
   "source": [],
   "metadata": {
    "collapsed": false
   }
  }
 ],
 "metadata": {
  "kernelspec": {
   "display_name": "Python 3",
   "language": "python",
   "name": "python3"
  },
  "language_info": {
   "codemirror_mode": {
    "name": "ipython",
    "version": 2
   },
   "file_extension": ".py",
   "mimetype": "text/x-python",
   "name": "python",
   "nbconvert_exporter": "python",
   "pygments_lexer": "ipython2",
   "version": "2.7.6"
  }
 },
 "nbformat": 4,
 "nbformat_minor": 0
}
